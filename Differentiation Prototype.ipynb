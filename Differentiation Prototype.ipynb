{
 "cells": [
  {
   "cell_type": "markdown",
   "metadata": {},
   "source": [
    "Cluster students by skill level.\n",
    "\n",
    "Inputs:\n",
    "\n",
    "- gradebook data (formative assessments)\n",
    "- assignment weight (100 - median grade)\n",
    "\n",
    "Outputs:\n",
    "\n",
    "- plot students in latent space\n",
    "- kmeans clusters"
   ]
  },
  {
   "cell_type": "code",
   "execution_count": null,
   "metadata": {},
   "outputs": [],
   "source": [
    "import pandas as pd\n",
    "import numpy as np\n",
    "import matplotlib.pyplot as plt\n",
    "import seaborn as sns\n",
    "from sklearn.cluster import KMeans\n",
    "from sklearn.decomposition import PCA\n",
    "from sklearn.discriminant_analysis import LinearDiscriminantAnalysis as LDA\n",
    "from sklearn.mixture import GaussianMixture\n",
    "\n",
    "%matplotlib inline"
   ]
  },
  {
   "cell_type": "code",
   "execution_count": null,
   "metadata": {},
   "outputs": [],
   "source": [
    "# 1. Simulate Data\n",
    "\n",
    "def simulate_grades(mu, sigma, n_students):\n",
    "    grades = []\n",
    "    for i in range(n_students):\n",
    "        g = -1\n",
    "        while g<0 or g>100:\n",
    "            g = np.random.normal(mu, sigma)\n",
    "        grades.append(g)\n",
    "    return grades\n",
    "\n",
    "\n",
    "def simulate_gradebook(n_students=20):\n",
    "    gb =  pd.DataFrame({'Student ID': np.random.choice(100000, n_students, replace=False),\n",
    "                         'Quiz 1': [11,12,10,90,91,92,50,55,41,38],\n",
    "                         'Quiz 2': [97,95,89,19,9,11,50,45,40,30],\n",
    "                         'Quiz 3': [5,25,8,80,75,90,50,65,43,40]})\n",
    "    gb['Final Grade'] = gb[['Quiz 1', 'Quiz 2', 'Quiz 3']].mean(axis='columns')\n",
    "    return gb\n",
    "\n",
    "gb = simulate_gradebook(10)\n",
    "display(gb.head())\n",
    "\n",
    "for col in ['Quiz 1', 'Quiz 2', 'Quiz 3', 'Final Grade']:\n",
    "    sns.distplot(gb[col], hist=False, label=col)\n",
    "plt.legend()\n",
    "plt.xlim([0,100])\n",
    "plt.show()"
   ]
  },
  {
   "cell_type": "code",
   "execution_count": null,
   "metadata": {},
   "outputs": [],
   "source": [
    "# 2. Cluster\n",
    "n_clusters=4\n",
    "kmeans = KMeans(n_clusters).fit(gb[['Quiz 1', 'Quiz 2', 'Quiz 3']])\n",
    "gb['kmeans'] = kmeans.labels_\n",
    "\n",
    "sns.heatmap(kmeans.cluster_centers_, cmap=sns.color_palette('RdYlGn_r'))\n",
    "plt.xlabel('Quiz')\n",
    "plt.ylabel('kmeans')"
   ]
  },
  {
   "cell_type": "code",
   "execution_count": null,
   "metadata": {},
   "outputs": [],
   "source": [
    "n_clusters=3\n",
    "gm = GaussianMixture(n_clusters, n_init=100).fit(gb[['Quiz 1', 'Quiz 2', 'Quiz 3']])\n",
    "gb['gaussmix'] = gm.predict(gb[['Quiz 1', 'Quiz 2', 'Quiz 3']])"
   ]
  },
  {
   "cell_type": "code",
   "execution_count": null,
   "metadata": {},
   "outputs": [],
   "source": [
    "# 3. Visualize Clusters\n",
    "\n",
    "for col in ['Quiz 1', 'Quiz 2', 'Quiz 3', 'Final Grade']:\n",
    "    for i in range(n_clusters):\n",
    "        sns.distplot(gb.loc[gb['gaussmix']==i, col], kde=False, label=f'Cluster {i}')\n",
    "    plt.legend()\n",
    "    plt.xlim([0,100])\n",
    "    plt.show()"
   ]
  },
  {
   "cell_type": "code",
   "execution_count": null,
   "metadata": {},
   "outputs": [],
   "source": [
    "X = gb[['Quiz 1', 'Quiz 2', 'Quiz 3']]\n",
    "y = gb['gaussmix']\n",
    "target_names = [0,1,2]\n",
    "\n",
    "pca = PCA(n_components=2)\n",
    "X_r = pca.fit(X).transform(X)\n",
    "\n",
    "lda = LDA(n_components=2)\n",
    "X_r2 = lda.fit(X, y).transform(X)\n",
    "\n",
    "# Percentage of variance explained for each components\n",
    "print('explained variance ratio (first two components): %s'\n",
    "      % str(pca.explained_variance_ratio_))\n",
    "\n",
    "plt.figure()\n",
    "colors = ['navy', 'turquoise', 'darkorange']\n",
    "lw = 2\n",
    "\n",
    "for color, i, target_name in zip(colors, [0, 1, 2], target_names):\n",
    "    plt.scatter(X_r[y == i, 0], X_r[y == i, 1], color=color, alpha=.8, lw=lw,\n",
    "                label=target_name)\n",
    "plt.legend(loc='best', shadow=False, scatterpoints=1)\n",
    "plt.title('PCA')\n",
    "\n",
    "plt.figure()\n",
    "for color, i, target_name in zip(colors, [0, 1, 2], target_names):\n",
    "    plt.scatter(X_r2[y == i, 0], X_r2[y == i, 1], alpha=.8, color=color,\n",
    "                label=target_name)\n",
    "plt.legend(loc='best', shadow=False, scatterpoints=1)\n",
    "plt.title('LDA')\n",
    "\n",
    "plt.show()"
   ]
  },
  {
   "cell_type": "code",
   "execution_count": null,
   "metadata": {
    "collapsed": true
   },
   "outputs": [],
   "source": [
    "# 4. Explain Clusters\n",
    "# average scores for each assignment\n",
    "\n",
    "# 5. Recommend Interventions\n",
    "# which assignment does each group need to focus on?"
   ]
  }
 ],
 "metadata": {
  "kernelspec": {
   "display_name": "Python 3",
   "language": "python",
   "name": "python3"
  },
  "language_info": {
   "codemirror_mode": {
    "name": "ipython",
    "version": 3
   },
   "file_extension": ".py",
   "mimetype": "text/x-python",
   "name": "python",
   "nbconvert_exporter": "python",
   "pygments_lexer": "ipython3",
   "version": "3.6.3"
  }
 },
 "nbformat": 4,
 "nbformat_minor": 2
}
